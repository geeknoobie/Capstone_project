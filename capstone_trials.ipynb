{
 "cells": [
  {
   "metadata": {
    "ExecuteTime": {
     "end_time": "2025-02-12T21:32:00.515910Z",
     "start_time": "2025-02-12T21:32:00.512776Z"
    }
   },
   "cell_type": "code",
   "source": [
    "# importing necessary libraries\n",
    "import pandas as pd\n",
    "import os\n",
    "import matplotlib.pyplot as plt\n",
    "import cv2\n",
    "from tqdm.notebook import tqdm\n",
    "import numpy as np"
   ],
   "id": "705f10a310ecb902",
   "outputs": [],
   "execution_count": 36
  },
  {
   "metadata": {},
   "cell_type": "markdown",
   "source": [
    "## step 1\n",
    "### data load and checking"
   ],
   "id": "5e96bfb017c691c5"
  },
  {
   "metadata": {
    "collapsed": true,
    "ExecuteTime": {
     "end_time": "2025-02-12T21:32:06.541604Z",
     "start_time": "2025-02-12T21:32:06.322227Z"
    }
   },
   "cell_type": "code",
   "source": [
    "# Define paths\n",
    "data_path = \"/Users/debabratapanda/PycharmProjects/Capstone_project/dataset/chest_xrays/metadata/Data_Entry_2017.csv\"\n",
    "image_folder = \"/Users/debabratapanda/PycharmProjects/Capstone_project/dataset/chest_xrays/images/\"\n",
    "\n",
    "# Load the CSV file\n",
    "df = pd.read_csv(data_path)\n",
    "\n",
    "# Display the first few rows\n",
    "print(df.head())\n",
    "\n",
    "# Check how many unique labels exist\n",
    "unique_labels = set()\n",
    "for labels in df[\"Finding Labels\"]:\n",
    "    unique_labels.update(labels.split(\"|\"))  # Split multi-label cases\n",
    "\n",
    "print(\"Unique Disease Labels:\", unique_labels)\n",
    "\n",
    "# Load a sample image\n",
    "sample_image = os.path.join(image_folder, df.iloc[0][\"Image Index\"])\n",
    "img = cv2.imread(sample_image, cv2.IMREAD_GRAYSCALE)\n",
    "\n",
    "# Display the sample image\n",
    "plt.imshow(img, cmap=\"gray\")\n",
    "plt.title(f\"Sample X-ray: {df.iloc[0]['Finding Labels']}\")\n",
    "plt.axis(\"off\")\n",
    "plt.show()\n"
   ],
   "id": "initial_id",
   "outputs": [
    {
     "ename": "FileNotFoundError",
     "evalue": "[Errno 2] No such file or directory: '/Users/debabratapanda/PycharmProjects/Capstone/dataset/chest_xrays/metadata/Data_Entry_2017.csv'",
     "output_type": "error",
     "traceback": [
      "\u001B[0;31m---------------------------------------------------------------------------\u001B[0m",
      "\u001B[0;31mFileNotFoundError\u001B[0m                         Traceback (most recent call last)",
      "Cell \u001B[0;32mIn[37], line 6\u001B[0m\n\u001B[1;32m      3\u001B[0m image_folder \u001B[38;5;241m=\u001B[39m \u001B[38;5;124m\"\u001B[39m\u001B[38;5;124m/Users/debabratapanda/PycharmProjects/Capstone/dataset/chest_xrays/images/\u001B[39m\u001B[38;5;124m\"\u001B[39m\n\u001B[1;32m      5\u001B[0m \u001B[38;5;66;03m# Load the CSV file\u001B[39;00m\n\u001B[0;32m----> 6\u001B[0m df \u001B[38;5;241m=\u001B[39m pd\u001B[38;5;241m.\u001B[39mread_csv(data_path)\n\u001B[1;32m      8\u001B[0m \u001B[38;5;66;03m# Display the first few rows\u001B[39;00m\n\u001B[1;32m      9\u001B[0m \u001B[38;5;28mprint\u001B[39m(df\u001B[38;5;241m.\u001B[39mhead())\n",
      "File \u001B[0;32m/opt/anaconda3/envs/projects/lib/python3.12/site-packages/pandas/io/parsers/readers.py:1026\u001B[0m, in \u001B[0;36mread_csv\u001B[0;34m(filepath_or_buffer, sep, delimiter, header, names, index_col, usecols, dtype, engine, converters, true_values, false_values, skipinitialspace, skiprows, skipfooter, nrows, na_values, keep_default_na, na_filter, verbose, skip_blank_lines, parse_dates, infer_datetime_format, keep_date_col, date_parser, date_format, dayfirst, cache_dates, iterator, chunksize, compression, thousands, decimal, lineterminator, quotechar, quoting, doublequote, escapechar, comment, encoding, encoding_errors, dialect, on_bad_lines, delim_whitespace, low_memory, memory_map, float_precision, storage_options, dtype_backend)\u001B[0m\n\u001B[1;32m   1013\u001B[0m kwds_defaults \u001B[38;5;241m=\u001B[39m _refine_defaults_read(\n\u001B[1;32m   1014\u001B[0m     dialect,\n\u001B[1;32m   1015\u001B[0m     delimiter,\n\u001B[0;32m   (...)\u001B[0m\n\u001B[1;32m   1022\u001B[0m     dtype_backend\u001B[38;5;241m=\u001B[39mdtype_backend,\n\u001B[1;32m   1023\u001B[0m )\n\u001B[1;32m   1024\u001B[0m kwds\u001B[38;5;241m.\u001B[39mupdate(kwds_defaults)\n\u001B[0;32m-> 1026\u001B[0m \u001B[38;5;28;01mreturn\u001B[39;00m _read(filepath_or_buffer, kwds)\n",
      "File \u001B[0;32m/opt/anaconda3/envs/projects/lib/python3.12/site-packages/pandas/io/parsers/readers.py:620\u001B[0m, in \u001B[0;36m_read\u001B[0;34m(filepath_or_buffer, kwds)\u001B[0m\n\u001B[1;32m    617\u001B[0m _validate_names(kwds\u001B[38;5;241m.\u001B[39mget(\u001B[38;5;124m\"\u001B[39m\u001B[38;5;124mnames\u001B[39m\u001B[38;5;124m\"\u001B[39m, \u001B[38;5;28;01mNone\u001B[39;00m))\n\u001B[1;32m    619\u001B[0m \u001B[38;5;66;03m# Create the parser.\u001B[39;00m\n\u001B[0;32m--> 620\u001B[0m parser \u001B[38;5;241m=\u001B[39m TextFileReader(filepath_or_buffer, \u001B[38;5;241m*\u001B[39m\u001B[38;5;241m*\u001B[39mkwds)\n\u001B[1;32m    622\u001B[0m \u001B[38;5;28;01mif\u001B[39;00m chunksize \u001B[38;5;129;01mor\u001B[39;00m iterator:\n\u001B[1;32m    623\u001B[0m     \u001B[38;5;28;01mreturn\u001B[39;00m parser\n",
      "File \u001B[0;32m/opt/anaconda3/envs/projects/lib/python3.12/site-packages/pandas/io/parsers/readers.py:1620\u001B[0m, in \u001B[0;36mTextFileReader.__init__\u001B[0;34m(self, f, engine, **kwds)\u001B[0m\n\u001B[1;32m   1617\u001B[0m     \u001B[38;5;28mself\u001B[39m\u001B[38;5;241m.\u001B[39moptions[\u001B[38;5;124m\"\u001B[39m\u001B[38;5;124mhas_index_names\u001B[39m\u001B[38;5;124m\"\u001B[39m] \u001B[38;5;241m=\u001B[39m kwds[\u001B[38;5;124m\"\u001B[39m\u001B[38;5;124mhas_index_names\u001B[39m\u001B[38;5;124m\"\u001B[39m]\n\u001B[1;32m   1619\u001B[0m \u001B[38;5;28mself\u001B[39m\u001B[38;5;241m.\u001B[39mhandles: IOHandles \u001B[38;5;241m|\u001B[39m \u001B[38;5;28;01mNone\u001B[39;00m \u001B[38;5;241m=\u001B[39m \u001B[38;5;28;01mNone\u001B[39;00m\n\u001B[0;32m-> 1620\u001B[0m \u001B[38;5;28mself\u001B[39m\u001B[38;5;241m.\u001B[39m_engine \u001B[38;5;241m=\u001B[39m \u001B[38;5;28mself\u001B[39m\u001B[38;5;241m.\u001B[39m_make_engine(f, \u001B[38;5;28mself\u001B[39m\u001B[38;5;241m.\u001B[39mengine)\n",
      "File \u001B[0;32m/opt/anaconda3/envs/projects/lib/python3.12/site-packages/pandas/io/parsers/readers.py:1880\u001B[0m, in \u001B[0;36mTextFileReader._make_engine\u001B[0;34m(self, f, engine)\u001B[0m\n\u001B[1;32m   1878\u001B[0m     \u001B[38;5;28;01mif\u001B[39;00m \u001B[38;5;124m\"\u001B[39m\u001B[38;5;124mb\u001B[39m\u001B[38;5;124m\"\u001B[39m \u001B[38;5;129;01mnot\u001B[39;00m \u001B[38;5;129;01min\u001B[39;00m mode:\n\u001B[1;32m   1879\u001B[0m         mode \u001B[38;5;241m+\u001B[39m\u001B[38;5;241m=\u001B[39m \u001B[38;5;124m\"\u001B[39m\u001B[38;5;124mb\u001B[39m\u001B[38;5;124m\"\u001B[39m\n\u001B[0;32m-> 1880\u001B[0m \u001B[38;5;28mself\u001B[39m\u001B[38;5;241m.\u001B[39mhandles \u001B[38;5;241m=\u001B[39m get_handle(\n\u001B[1;32m   1881\u001B[0m     f,\n\u001B[1;32m   1882\u001B[0m     mode,\n\u001B[1;32m   1883\u001B[0m     encoding\u001B[38;5;241m=\u001B[39m\u001B[38;5;28mself\u001B[39m\u001B[38;5;241m.\u001B[39moptions\u001B[38;5;241m.\u001B[39mget(\u001B[38;5;124m\"\u001B[39m\u001B[38;5;124mencoding\u001B[39m\u001B[38;5;124m\"\u001B[39m, \u001B[38;5;28;01mNone\u001B[39;00m),\n\u001B[1;32m   1884\u001B[0m     compression\u001B[38;5;241m=\u001B[39m\u001B[38;5;28mself\u001B[39m\u001B[38;5;241m.\u001B[39moptions\u001B[38;5;241m.\u001B[39mget(\u001B[38;5;124m\"\u001B[39m\u001B[38;5;124mcompression\u001B[39m\u001B[38;5;124m\"\u001B[39m, \u001B[38;5;28;01mNone\u001B[39;00m),\n\u001B[1;32m   1885\u001B[0m     memory_map\u001B[38;5;241m=\u001B[39m\u001B[38;5;28mself\u001B[39m\u001B[38;5;241m.\u001B[39moptions\u001B[38;5;241m.\u001B[39mget(\u001B[38;5;124m\"\u001B[39m\u001B[38;5;124mmemory_map\u001B[39m\u001B[38;5;124m\"\u001B[39m, \u001B[38;5;28;01mFalse\u001B[39;00m),\n\u001B[1;32m   1886\u001B[0m     is_text\u001B[38;5;241m=\u001B[39mis_text,\n\u001B[1;32m   1887\u001B[0m     errors\u001B[38;5;241m=\u001B[39m\u001B[38;5;28mself\u001B[39m\u001B[38;5;241m.\u001B[39moptions\u001B[38;5;241m.\u001B[39mget(\u001B[38;5;124m\"\u001B[39m\u001B[38;5;124mencoding_errors\u001B[39m\u001B[38;5;124m\"\u001B[39m, \u001B[38;5;124m\"\u001B[39m\u001B[38;5;124mstrict\u001B[39m\u001B[38;5;124m\"\u001B[39m),\n\u001B[1;32m   1888\u001B[0m     storage_options\u001B[38;5;241m=\u001B[39m\u001B[38;5;28mself\u001B[39m\u001B[38;5;241m.\u001B[39moptions\u001B[38;5;241m.\u001B[39mget(\u001B[38;5;124m\"\u001B[39m\u001B[38;5;124mstorage_options\u001B[39m\u001B[38;5;124m\"\u001B[39m, \u001B[38;5;28;01mNone\u001B[39;00m),\n\u001B[1;32m   1889\u001B[0m )\n\u001B[1;32m   1890\u001B[0m \u001B[38;5;28;01massert\u001B[39;00m \u001B[38;5;28mself\u001B[39m\u001B[38;5;241m.\u001B[39mhandles \u001B[38;5;129;01mis\u001B[39;00m \u001B[38;5;129;01mnot\u001B[39;00m \u001B[38;5;28;01mNone\u001B[39;00m\n\u001B[1;32m   1891\u001B[0m f \u001B[38;5;241m=\u001B[39m \u001B[38;5;28mself\u001B[39m\u001B[38;5;241m.\u001B[39mhandles\u001B[38;5;241m.\u001B[39mhandle\n",
      "File \u001B[0;32m/opt/anaconda3/envs/projects/lib/python3.12/site-packages/pandas/io/common.py:873\u001B[0m, in \u001B[0;36mget_handle\u001B[0;34m(path_or_buf, mode, encoding, compression, memory_map, is_text, errors, storage_options)\u001B[0m\n\u001B[1;32m    868\u001B[0m \u001B[38;5;28;01melif\u001B[39;00m \u001B[38;5;28misinstance\u001B[39m(handle, \u001B[38;5;28mstr\u001B[39m):\n\u001B[1;32m    869\u001B[0m     \u001B[38;5;66;03m# Check whether the filename is to be opened in binary mode.\u001B[39;00m\n\u001B[1;32m    870\u001B[0m     \u001B[38;5;66;03m# Binary mode does not support 'encoding' and 'newline'.\u001B[39;00m\n\u001B[1;32m    871\u001B[0m     \u001B[38;5;28;01mif\u001B[39;00m ioargs\u001B[38;5;241m.\u001B[39mencoding \u001B[38;5;129;01mand\u001B[39;00m \u001B[38;5;124m\"\u001B[39m\u001B[38;5;124mb\u001B[39m\u001B[38;5;124m\"\u001B[39m \u001B[38;5;129;01mnot\u001B[39;00m \u001B[38;5;129;01min\u001B[39;00m ioargs\u001B[38;5;241m.\u001B[39mmode:\n\u001B[1;32m    872\u001B[0m         \u001B[38;5;66;03m# Encoding\u001B[39;00m\n\u001B[0;32m--> 873\u001B[0m         handle \u001B[38;5;241m=\u001B[39m \u001B[38;5;28mopen\u001B[39m(\n\u001B[1;32m    874\u001B[0m             handle,\n\u001B[1;32m    875\u001B[0m             ioargs\u001B[38;5;241m.\u001B[39mmode,\n\u001B[1;32m    876\u001B[0m             encoding\u001B[38;5;241m=\u001B[39mioargs\u001B[38;5;241m.\u001B[39mencoding,\n\u001B[1;32m    877\u001B[0m             errors\u001B[38;5;241m=\u001B[39merrors,\n\u001B[1;32m    878\u001B[0m             newline\u001B[38;5;241m=\u001B[39m\u001B[38;5;124m\"\u001B[39m\u001B[38;5;124m\"\u001B[39m,\n\u001B[1;32m    879\u001B[0m         )\n\u001B[1;32m    880\u001B[0m     \u001B[38;5;28;01melse\u001B[39;00m:\n\u001B[1;32m    881\u001B[0m         \u001B[38;5;66;03m# Binary mode\u001B[39;00m\n\u001B[1;32m    882\u001B[0m         handle \u001B[38;5;241m=\u001B[39m \u001B[38;5;28mopen\u001B[39m(handle, ioargs\u001B[38;5;241m.\u001B[39mmode)\n",
      "\u001B[0;31mFileNotFoundError\u001B[0m: [Errno 2] No such file or directory: '/Users/debabratapanda/PycharmProjects/Capstone/dataset/chest_xrays/metadata/Data_Entry_2017.csv'"
     ]
    }
   ],
   "execution_count": 37
  },
  {
   "metadata": {
    "ExecuteTime": {
     "end_time": "2025-02-12T20:21:20.770623Z",
     "start_time": "2025-02-12T20:21:20.637970Z"
    }
   },
   "cell_type": "code",
   "source": [
    "# Define paths\n",
    "fracture_dir = \"/Users/debabratapanda/PycharmProjects/Capstone_project/dataset/bone_fractures\"\n",
    "fractured_path = os.path.join(fracture_dir, \"fractured\")\n",
    "not_fractured_path = os.path.join(fracture_dir, \"not_fractured\")\n",
    "\n",
    "# Check the number of images\n",
    "print(\"Fractured images:\", len(os.listdir(fractured_path)))\n",
    "print(\"Not Fractured images:\", len(os.listdir(not_fractured_path)))\n",
    "\n",
    "# Load and display a sample fractured image\n",
    "sample_image = os.path.join(fractured_path, os.listdir(fractured_path)[0])\n",
    "img = cv2.imread(sample_image, cv2.IMREAD_GRAYSCALE)\n",
    "\n",
    "plt.imshow(img, cmap=\"gray\")\n",
    "plt.title(\"Sample Fractured X-ray\")\n",
    "plt.axis(\"off\")\n",
    "plt.show()\n"
   ],
   "id": "17136a29a00f702a",
   "outputs": [
    {
     "name": "stdout",
     "output_type": "stream",
     "text": [
      "Fractured images: 4606\n",
      "Not Fractured images: 4640\n"
     ]
    },
    {
     "data": {
      "text/plain": [
       "<Figure size 640x480 with 1 Axes>"
      ],
      "image/png": "[encoded data removed]"
     },
     "metadata": {},
     "output_type": "display_data"
    }
   ],
   "execution_count": 24
  },
  {
   "metadata": {},
   "cell_type": "markdown",
   "source": [
    "# step 2\n",
    "### EDA"
   ],
   "id": "8211748a09a7cf3a"
  },
  {
   "metadata": {
    "ExecuteTime": {
     "end_time": "2025-02-12T20:21:20.853709Z",
     "start_time": "2025-02-12T20:21:20.778492Z"
    }
   },
   "cell_type": "code",
   "source": [
    "# Load the CSV file\n",
    "df = pd.read_csv(data_path)\n",
    "\n",
    "# Create a dictionary to store condition counts\n",
    "condition_counts = {}\n",
    "\n",
    "# Count occurrences of each condition\n",
    "for labels in df[\"Finding Labels\"]:\n",
    "    # For each image, split its conditions and count them\n",
    "    conditions = labels.split(\"|\")\n",
    "    for condition in conditions:\n",
    "        condition_counts[condition] = condition_counts.get(condition, 0) + 1\n",
    "\n",
    "# Convert to DataFrame and sort by frequency\n",
    "conditions_df = pd.DataFrame(\n",
    "    list(condition_counts.items()),\n",
    "    columns=['Condition', 'Count']\n",
    ").sort_values('Count', ascending=False)\n",
    "\n",
    "# Add percentage column\n",
    "total_images = len(df)\n",
    "conditions_df['Percentage'] = (conditions_df['Count'] / total_images * 100).round(2)\n",
    "\n",
    "# Display the results\n",
    "print(\"Total number of images:\", total_images)\n",
    "print(\"\\nCondition Distribution:\")\n",
    "print(conditions_df)"
   ],
   "id": "f55965dde0b34725",
   "outputs": [
    {
     "name": "stdout",
     "output_type": "stream",
     "text": [
      "Total number of images: 112120\n",
      "\n",
      "Condition Distribution:\n",
      "             Condition  Count  Percentage\n",
      "3           No Finding  60361       53.84\n",
      "5         Infiltration  19894       17.74\n",
      "2             Effusion  13317       11.88\n",
      "8          Atelectasis  11559       10.31\n",
      "7               Nodule   6331        5.65\n",
      "6                 Mass   5782        5.16\n",
      "9         Pneumothorax   5302        4.73\n",
      "14       Consolidation   4667        4.16\n",
      "10  Pleural_Thickening   3385        3.02\n",
      "0         Cardiomegaly   2776        2.48\n",
      "1            Emphysema   2516        2.24\n",
      "13               Edema   2303        2.05\n",
      "12            Fibrosis   1686        1.50\n",
      "11           Pneumonia   1431        1.28\n",
      "4               Hernia    227        0.20\n"
     ]
    }
   ],
   "execution_count": 25
  },
  {
   "metadata": {},
   "cell_type": "markdown",
   "source": "### image preprocessing",
   "id": "88ec378e8e54f9bb"
  },
  {
   "metadata": {
    "ExecuteTime": {
     "end_time": "2025-02-12T20:21:20.865292Z",
     "start_time": "2025-02-12T20:21:20.863264Z"
    }
   },
   "cell_type": "code",
   "source": [
    "# Function to test our preprocessing\n",
    "def visualize_preprocessing(image_path):\n",
    "    \"\"\"\n",
    "    Visualize the original and preprocessed versions of an image.\n",
    "    This helps us verify our preprocessing steps are working as intended.\n",
    "    \"\"\"\n",
    "    # Load original image\n",
    "    original = cv2.imread(str(image_path), cv2.IMREAD_GRAYSCALE)\n",
    "\n",
    "    # Get preprocessed version\n",
    "    processed = load_and_preprocess_image(image_path)\n",
    "\n",
    "    # Display both images\n",
    "    fig, (ax1, ax2) = plt.subplots(1, 2, figsize=(10,5))\n",
    "    ax1.imshow(original, cmap='gray')\n",
    "    ax1.set_title('Original Image')\n",
    "    ax1.axis('off')\n",
    "\n",
    "    ax2.imshow(processed, cmap='gray')\n",
    "    ax2.set_title('Preprocessed Image')\n",
    "    ax2.axis('off')\n",
    "\n",
    "    plt.show()"
   ],
   "id": "fca38941c49f3e47",
   "outputs": [],
   "execution_count": 26
  },
  {
   "metadata": {
    "ExecuteTime": {
     "end_time": "2025-02-12T20:21:20.873808Z",
     "start_time": "2025-02-12T20:21:20.870340Z"
    }
   },
   "cell_type": "code",
   "source": [
    "def load_and_preprocess_image(image_path, target_size=(224, 224), save_flag=False):\n",
    "    \"\"\"\n",
    "    Load and preprocess an X-ray image with automatic folder creation for processed images.\n",
    "    The processed images will be saved in a new folder that adds '_processed' to the original folder name.\n",
    "\n",
    "    Args:\n",
    "        image_path (str): Path to the original X-ray image\n",
    "        target_size (tuple): Desired size for the processed image (default: 224x224)\n",
    "        save_flag (bool): If True, save the processed image; if False, return it\n",
    "    Returns:\n",
    "        1. folder with processed images if save_flag is True\n",
    "        2. A processed image that can be used directly\n",
    "    \"\"\"\n",
    "\n",
    "    # loading greyscale xray images\n",
    "    image = cv2.imread(str(image_path), cv2.IMREAD_GRAYSCALE)\n",
    "\n",
    "    # Checking if image was loaded successfully\n",
    "    if image is None:\n",
    "        print(f\"Error: Failed to load image: {image_path}\")\n",
    "        return None\n",
    "\n",
    "    # creating a try exception block for catching exceptions in images\n",
    "    try:\n",
    "        # Applying CLAHE (Contrast Limited Adaptive Histogram Equalization) because\n",
    "        # 1. it enhances the contrast of the X-ray while limiting noise amplification\n",
    "        # 2. this in turn helps us in making subtle details more visible while preventing over-enhancement\n",
    "        clahe = cv2.createCLAHE(clipLimit=2.0, tileGridSize=(8, 8))\n",
    "        image = clahe.apply(image)\n",
    "\n",
    "        # Resizing the image while maintaining aspect ratio we are doing this because\n",
    "        # 1. We need a consistent image size for our neural network\n",
    "        # 2. preserving the aspect ratio helps preserve the relative size of features in the image\n",
    "\n",
    "        # getting the current dimensions\n",
    "        current_height, current_width = image.shape\n",
    "\n",
    "        # calculating the scaling\n",
    "        scale = min(target_size[0] / current_width, target_size[1] / current_height)\n",
    "        new_width = int(current_width * scale)\n",
    "        new_height = int(current_height * scale)\n",
    "        resized = cv2.resize(image, (new_width, new_height))\n",
    "\n",
    "        # creating a black canvas of target size as it helps us in\n",
    "        # 1. ensuring all images have exactly the same dimensions\n",
    "        # 2. preserves their aspect ratios through padding\n",
    "        final_image = np.zeros(target_size, dtype=np.float32)\n",
    "        y_offset = (target_size[0] - new_height) // 2\n",
    "        x_offset = (target_size[1] - new_width) // 2\n",
    "        final_image[y_offset:y_offset + new_height,\n",
    "        x_offset:x_offset + new_width] = resized\n",
    "\n",
    "        # normalising pixel values to range [0,1] because\n",
    "        # 1. helps with model convergence\n",
    "        # 2. makes the learning process more stable\n",
    "        final_image = final_image / 255.0\n",
    "\n",
    "        # checking whether to save or return the image\n",
    "        if save_flag:\n",
    "\n",
    "            # creating folder name for processed images\n",
    "            original_folder = os.path.dirname(image_path)\n",
    "            processed_folder = original_folder + '_processed'\n",
    "\n",
    "            # creating the folder for processed images\n",
    "            os.makedirs(processed_folder, exist_ok=True)\n",
    "\n",
    "            # recreate original output filenames\n",
    "            base_name = os.path.basename(image_path)\n",
    "            file_name = os.path.splitext(base_name)[0] + '.npy'     # Saving as .npy to preserve exact numerical values (0-1) and floating point precision for                                                             # training as using this would help us avoid the data loss that would occur with regular image\n",
    "                                                                    # format (jpg/png) as they round the value whereas npy stores numerical arrays as it is\n",
    "            save_path = os.path.join(processed_folder, file_name)\n",
    "\n",
    "            # Saving the processed image\n",
    "            np.save(save_path, final_image)\n",
    "            return None\n",
    "        else:\n",
    "            return final_image\n",
    "\n",
    "\n",
    "    except Exception as e:\n",
    "        print(f\"Error during processing: {str(e)}\")\n",
    "        return None"
   ],
   "id": "70daea36bf802bd2",
   "outputs": [],
   "execution_count": 27
  },
  {
   "metadata": {
    "ExecuteTime": {
     "end_time": "2025-02-12T20:21:44.045893Z",
     "start_time": "2025-02-12T20:21:20.880442Z"
    }
   },
   "cell_type": "code",
   "source": [
    "a = \"/Users/debabratapanda/PycharmProjects/Capstone_project/dataset/bone_fractures/fractured\"\n",
    "b = \"/Users/debabratapanda/PycharmProjects/Capstone_project/dataset/bone_fractures/not_fractured\"\n",
    "c = \"/Users/debabratapanda/PycharmProjects/Capstone_project/dataset/chest_xrays/images\"\n",
    "fi = [a,b,c]\n",
    "for i in fi:\n",
    "    print(f\"proceessing folder with {os.path.basename(i)} images\")\n",
    "    for image_name in tqdm(os.listdir(i)):\n",
    "        if image_name.lower().endswith(('.png', '.jpg', '.jpeg', '.tif', '.tiff')):\n",
    "            input_path = os.path.join(i, image_name)\n",
    "            load_and_preprocess_image(input_path, save_flag=True)"
   ],
   "id": "a875144799aa074e",
   "outputs": [
    {
     "name": "stdout",
     "output_type": "stream",
     "text": [
      "proceessing folder with fractured images\n"
     ]
    },
    {
     "data": {
      "text/plain": [
       "  0%|          | 0/4606 [00:00<?, ?it/s]"
      ],
      "application/vnd.jupyter.widget-view+json": {
       "version_major": 2,
       "version_minor": 0,
       "model_id": "d3ea3a827d154d3f823b32ed8c2277d1"
      }
     },
     "metadata": {},
     "output_type": "display_data"
    },
    {
     "name": "stderr",
     "output_type": "stream",
     "text": [
      "libpng warning: bKGD: invalid\n",
      "libpng warning: bKGD: invalid\n"
     ]
    },
    {
     "name": "stdout",
     "output_type": "stream",
     "text": [
      "Error: Failed to load image: /Users/debabratapanda/PycharmProjects/Capstone/dataset/bone_fractures/fractured/26(1).jpg\n"
     ]
    },
    {
     "name": "stderr",
     "output_type": "stream",
     "text": [
      "libpng warning: iCCP: known incorrect sRGB profile\n"
     ]
    },
    {
     "name": "stdout",
     "output_type": "stream",
     "text": [
      "Error: Failed to load image: /Users/debabratapanda/PycharmProjects/Capstone/dataset/bone_fractures/fractured/159.jpg\n"
     ]
    },
    {
     "name": "stderr",
     "output_type": "stream",
     "text": [
      "libpng warning: iCCP: known incorrect sRGB profile\n",
      "libpng warning: iCCP: profile 'ICC Profile': 0h: PCS illuminant is not D50\n",
      "libpng warning: bKGD: invalid\n"
     ]
    },
    {
     "name": "stdout",
     "output_type": "stream",
     "text": [
      "Error: Failed to load image: /Users/debabratapanda/PycharmProjects/Capstone/dataset/bone_fractures/fractured/2.jpg\n"
     ]
    },
    {
     "name": "stderr",
     "output_type": "stream",
     "text": [
      "libpng warning: iCCP: known incorrect sRGB profile\n"
     ]
    },
    {
     "ename": "KeyboardInterrupt",
     "evalue": "",
     "output_type": "error",
     "traceback": [
      "\u001B[0;31m---------------------------------------------------------------------------\u001B[0m",
      "\u001B[0;31mKeyboardInterrupt\u001B[0m                         Traceback (most recent call last)",
      "Cell \u001B[0;32mIn[28], line 10\u001B[0m\n\u001B[1;32m      8\u001B[0m \u001B[38;5;28;01mif\u001B[39;00m image_name\u001B[38;5;241m.\u001B[39mlower()\u001B[38;5;241m.\u001B[39mendswith((\u001B[38;5;124m'\u001B[39m\u001B[38;5;124m.png\u001B[39m\u001B[38;5;124m'\u001B[39m, \u001B[38;5;124m'\u001B[39m\u001B[38;5;124m.jpg\u001B[39m\u001B[38;5;124m'\u001B[39m, \u001B[38;5;124m'\u001B[39m\u001B[38;5;124m.jpeg\u001B[39m\u001B[38;5;124m'\u001B[39m, \u001B[38;5;124m'\u001B[39m\u001B[38;5;124m.tif\u001B[39m\u001B[38;5;124m'\u001B[39m, \u001B[38;5;124m'\u001B[39m\u001B[38;5;124m.tiff\u001B[39m\u001B[38;5;124m'\u001B[39m)):\n\u001B[1;32m      9\u001B[0m     input_path \u001B[38;5;241m=\u001B[39m os\u001B[38;5;241m.\u001B[39mpath\u001B[38;5;241m.\u001B[39mjoin(i, image_name)\n\u001B[0;32m---> 10\u001B[0m     load_and_preprocess_image(input_path, save_flag\u001B[38;5;241m=\u001B[39m\u001B[38;5;28;01mTrue\u001B[39;00m)\n",
      "Cell \u001B[0;32mIn[27], line 16\u001B[0m, in \u001B[0;36mload_and_preprocess_image\u001B[0;34m(image_path, target_size, save_flag)\u001B[0m\n\u001B[1;32m      2\u001B[0m \u001B[38;5;250m\u001B[39m\u001B[38;5;124;03m\"\"\"\u001B[39;00m\n\u001B[1;32m      3\u001B[0m \u001B[38;5;124;03mLoad and preprocess an X-ray image with automatic folder creation for processed images.\u001B[39;00m\n\u001B[1;32m      4\u001B[0m \u001B[38;5;124;03mThe processed images will be saved in a new folder that adds '_processed' to the original folder name.\u001B[39;00m\n\u001B[0;32m   (...)\u001B[0m\n\u001B[1;32m     12\u001B[0m \u001B[38;5;124;03m    2. A processed image that can be used directly\u001B[39;00m\n\u001B[1;32m     13\u001B[0m \u001B[38;5;124;03m\"\"\"\u001B[39;00m\n\u001B[1;32m     15\u001B[0m \u001B[38;5;66;03m# loading greyscale xray images\u001B[39;00m\n\u001B[0;32m---> 16\u001B[0m image \u001B[38;5;241m=\u001B[39m cv2\u001B[38;5;241m.\u001B[39mimread(\u001B[38;5;28mstr\u001B[39m(image_path), cv2\u001B[38;5;241m.\u001B[39mIMREAD_GRAYSCALE)\n\u001B[1;32m     18\u001B[0m \u001B[38;5;66;03m# Checking if image was loaded successfully\u001B[39;00m\n\u001B[1;32m     19\u001B[0m \u001B[38;5;28;01mif\u001B[39;00m image \u001B[38;5;129;01mis\u001B[39;00m \u001B[38;5;28;01mNone\u001B[39;00m:\n",
      "\u001B[0;31mKeyboardInterrupt\u001B[0m: "
     ]
    }
   ],
   "execution_count": 28
  },
  {
   "metadata": {
    "ExecuteTime": {
     "end_time": "2025-02-12T20:50:17.006676Z",
     "start_time": "2025-02-12T20:50:17.004388Z"
    }
   },
   "cell_type": "code",
   "source": [
    "# 1. First, define paths where our preprocessed .npy files are stored\n",
    "fracture_processed = \"/Users/debabratapanda/PycharmProjects/Capstone_project/dataset/bone_fractures/fractured_processed\"\n",
    "not_fracture_processed = \"/Users/debabratapanda/PycharmProjects/Capstone_project/dataset/bone_fractures/not_fractured_processed\"\n",
    "chest_processed = \"/Users/debabratapanda/PycharmProjects/Capstone_project/dataset/chest_xrays/images_processed\"\n",
    "\n",
    "# Path to the CSV file containing chest X-ray labels\n",
    "chest_csv_path = \"/Users/debabratapanda/PycharmProjects/Capstone_project/dataset/chest_xrays/metadata/Data_Entry_2017.csv\""
   ],
   "id": "35e93214e3d91dc",
   "outputs": [],
   "execution_count": 30
  },
  {
   "metadata": {
    "ExecuteTime": {
     "end_time": "2025-02-12T20:50:18.392781Z",
     "start_time": "2025-02-12T20:50:18.388301Z"
    }
   },
   "cell_type": "code",
   "source": [
    "def create_dataset_df():\n",
    "    \"\"\"\n",
    "    This function creates a unified DataFrame containing information about all our images\n",
    "    \"\"\"\n",
    "    # For fracture dataset:\n",
    "    # Create a list of tuples: (file_path, label, dataset_type)\n",
    "    # Label 1 for fractured images\n",
    "    fracture_files = [(os.path.join(fracture_processed, f), 1, 'fracture')\n",
    "                      for f in os.listdir(fracture_processed) if f.endswith('.npy')]\n",
    "\n",
    "    # Label 0 for non-fractured images\n",
    "    not_fracture_files = [(os.path.join(not_fracture_processed, f), 0, 'not fracture')\n",
    "                         for f in os.listdir(not_fracture_processed) if f.endswith('.npy')]\n",
    "\n",
    "    # Combine fractured and non-fractured into one DataFrame\n",
    "    fracture_df = pd.DataFrame(fracture_files + not_fracture_files,\n",
    "                             columns=['file_path', 'fracture_label', 'dataset_type'])\n",
    "\n",
    "    # For chest X-ray dataset:\n",
    "    # First read the CSV containing labels\n",
    "    chest_labels_df = pd.read_csv(chest_csv_path)\n",
    "\n",
    "    # Create list of preprocessed chest X-ray files\n",
    "    # Note: we replace .png with .npy since we preprocessed the images\n",
    "    chest_files = [(os.path.join(chest_processed, f.replace('.png', '.npy')), f, 'chest')\n",
    "                   for f in chest_labels_df['Image Index']]\n",
    "\n",
    "    # Create DataFrame for chest X-rays\n",
    "    chest_df = pd.DataFrame(chest_files,\n",
    "                          columns=['file_path', 'original_filename', 'dataset_type'])\n",
    "\n",
    "    # Merge with the original labels from CSV\n",
    "    chest_df = chest_df.merge(chest_labels_df,\n",
    "                            left_on='original_filename',\n",
    "                            right_on='Image Index',\n",
    "                            how='left')\n",
    "\n",
    "    # Combine both fracture and chest datasets into one DataFrame\n",
    "    combined_df = pd.concat([fracture_df, chest_df], ignore_index=True)\n",
    "\n",
    "    return combined_df"
   ],
   "id": "62724228df9fc8e1",
   "outputs": [],
   "execution_count": 31
  },
  {
   "metadata": {
    "ExecuteTime": {
     "end_time": "2025-02-12T20:50:25.338015Z",
     "start_time": "2025-02-12T20:50:25.175779Z"
    }
   },
   "cell_type": "code",
   "source": [
    "# Create the organized DataFrame\n",
    "dataset_df = create_dataset_df()"
   ],
   "id": "9fce492ed1d71997",
   "outputs": [],
   "execution_count": 32
  },
  {
   "metadata": {
    "ExecuteTime": {
     "end_time": "2025-02-12T20:51:57.611517Z",
     "start_time": "2025-02-12T20:51:57.587258Z"
    }
   },
   "cell_type": "code",
   "source": "dataset_df",
   "id": "f59cc3065cdbeb3",
   "outputs": [
    {
     "data": {
      "text/plain": [
       "                                                file_path  fracture_label  \\\n",
       "0       /Users/debabratapanda/PycharmProjects/Capstone...             1.0   \n",
       "1       /Users/debabratapanda/PycharmProjects/Capstone...             1.0   \n",
       "2       /Users/debabratapanda/PycharmProjects/Capstone...             1.0   \n",
       "3       /Users/debabratapanda/PycharmProjects/Capstone...             1.0   \n",
       "4       /Users/debabratapanda/PycharmProjects/Capstone...             1.0   \n",
       "...                                                   ...             ...   \n",
       "121331  /Users/debabratapanda/PycharmProjects/Capstone...             NaN   \n",
       "121332  /Users/debabratapanda/PycharmProjects/Capstone...             NaN   \n",
       "121333  /Users/debabratapanda/PycharmProjects/Capstone...             NaN   \n",
       "121334  /Users/debabratapanda/PycharmProjects/Capstone...             NaN   \n",
       "121335  /Users/debabratapanda/PycharmProjects/Capstone...             NaN   \n",
       "\n",
       "       dataset_type original_filename       Image Index  Finding Labels  \\\n",
       "0          fracture               NaN               NaN             NaN   \n",
       "1          fracture               NaN               NaN             NaN   \n",
       "2          fracture               NaN               NaN             NaN   \n",
       "3          fracture               NaN               NaN             NaN   \n",
       "4          fracture               NaN               NaN             NaN   \n",
       "...             ...               ...               ...             ...   \n",
       "121331        chest  00030801_001.png  00030801_001.png  Mass|Pneumonia   \n",
       "121332        chest  00030802_000.png  00030802_000.png      No Finding   \n",
       "121333        chest  00030803_000.png  00030803_000.png      No Finding   \n",
       "121334        chest  00030804_000.png  00030804_000.png      No Finding   \n",
       "121335        chest  00030805_000.png  00030805_000.png      No Finding   \n",
       "\n",
       "        Follow-up #  Patient ID  Patient Age Patient Gender View Position  \\\n",
       "0               NaN         NaN          NaN            NaN           NaN   \n",
       "1               NaN         NaN          NaN            NaN           NaN   \n",
       "2               NaN         NaN          NaN            NaN           NaN   \n",
       "3               NaN         NaN          NaN            NaN           NaN   \n",
       "4               NaN         NaN          NaN            NaN           NaN   \n",
       "...             ...         ...          ...            ...           ...   \n",
       "121331          1.0     30801.0         39.0              M            PA   \n",
       "121332          0.0     30802.0         29.0              M            PA   \n",
       "121333          0.0     30803.0         42.0              F            PA   \n",
       "121334          0.0     30804.0         30.0              F            PA   \n",
       "121335          0.0     30805.0         27.0              M            PA   \n",
       "\n",
       "        OriginalImage[Width  Height]  OriginalImagePixelSpacing[x     y]  \\\n",
       "0                       NaN      NaN                          NaN    NaN   \n",
       "1                       NaN      NaN                          NaN    NaN   \n",
       "2                       NaN      NaN                          NaN    NaN   \n",
       "3                       NaN      NaN                          NaN    NaN   \n",
       "4                       NaN      NaN                          NaN    NaN   \n",
       "...                     ...      ...                          ...    ...   \n",
       "121331               2048.0   2500.0                        0.168  0.168   \n",
       "121332               2048.0   2500.0                        0.168  0.168   \n",
       "121333               2048.0   2500.0                        0.168  0.168   \n",
       "121334               2048.0   2500.0                        0.168  0.168   \n",
       "121335               2048.0   2500.0                        0.171  0.171   \n",
       "\n",
       "        Unnamed: 11  \n",
       "0               NaN  \n",
       "1               NaN  \n",
       "2               NaN  \n",
       "3               NaN  \n",
       "4               NaN  \n",
       "...             ...  \n",
       "121331          NaN  \n",
       "121332          NaN  \n",
       "121333          NaN  \n",
       "121334          NaN  \n",
       "121335          NaN  \n",
       "\n",
       "[121336 rows x 16 columns]"
      ],
      "text/html": [
       "<div>\n",
       "<style scoped>\n",
       "    .dataframe tbody tr th:only-of-type {\n",
       "        vertical-align: middle;\n",
       "    }\n",
       "\n",
       "    .dataframe tbody tr th {\n",
       "        vertical-align: top;\n",
       "    }\n",
       "\n",
       "    .dataframe thead th {\n",
       "        text-align: right;\n",
       "    }\n",
       "</style>\n",
       "<table border=\"1\" class=\"dataframe\">\n",
       "  <thead>\n",
       "    <tr style=\"text-align: right;\">\n",
       "      <th></th>\n",
       "      <th>file_path</th>\n",
       "      <th>fracture_label</th>\n",
       "      <th>dataset_type</th>\n",
       "      <th>original_filename</th>\n",
       "      <th>Image Index</th>\n",
       "      <th>Finding Labels</th>\n",
       "      <th>Follow-up #</th>\n",
       "      <th>Patient ID</th>\n",
       "      <th>Patient Age</th>\n",
       "      <th>Patient Gender</th>\n",
       "      <th>View Position</th>\n",
       "      <th>OriginalImage[Width</th>\n",
       "      <th>Height]</th>\n",
       "      <th>OriginalImagePixelSpacing[x</th>\n",
       "      <th>y]</th>\n",
       "      <th>Unnamed: 11</th>\n",
       "    </tr>\n",
       "  </thead>\n",
       "  <tbody>\n",
       "    <tr>\n",
       "      <th>0</th>\n",
       "      <td>/Users/debabratapanda/PycharmProjects/Capstone...</td>\n",
       "      <td>1.0</td>\n",
       "      <td>fracture</td>\n",
       "      <td>NaN</td>\n",
       "      <td>NaN</td>\n",
       "      <td>NaN</td>\n",
       "      <td>NaN</td>\n",
       "      <td>NaN</td>\n",
       "      <td>NaN</td>\n",
       "      <td>NaN</td>\n",
       "      <td>NaN</td>\n",
       "      <td>NaN</td>\n",
       "      <td>NaN</td>\n",
       "      <td>NaN</td>\n",
       "      <td>NaN</td>\n",
       "      <td>NaN</td>\n",
       "    </tr>\n",
       "    <tr>\n",
       "      <th>1</th>\n",
       "      <td>/Users/debabratapanda/PycharmProjects/Capstone...</td>\n",
       "      <td>1.0</td>\n",
       "      <td>fracture</td>\n",
       "      <td>NaN</td>\n",
       "      <td>NaN</td>\n",
       "      <td>NaN</td>\n",
       "      <td>NaN</td>\n",
       "      <td>NaN</td>\n",
       "      <td>NaN</td>\n",
       "      <td>NaN</td>\n",
       "      <td>NaN</td>\n",
       "      <td>NaN</td>\n",
       "      <td>NaN</td>\n",
       "      <td>NaN</td>\n",
       "      <td>NaN</td>\n",
       "      <td>NaN</td>\n",
       "    </tr>\n",
       "    <tr>\n",
       "      <th>2</th>\n",
       "      <td>/Users/debabratapanda/PycharmProjects/Capstone...</td>\n",
       "      <td>1.0</td>\n",
       "      <td>fracture</td>\n",
       "      <td>NaN</td>\n",
       "      <td>NaN</td>\n",
       "      <td>NaN</td>\n",
       "      <td>NaN</td>\n",
       "      <td>NaN</td>\n",
       "      <td>NaN</td>\n",
       "      <td>NaN</td>\n",
       "      <td>NaN</td>\n",
       "      <td>NaN</td>\n",
       "      <td>NaN</td>\n",
       "      <td>NaN</td>\n",
       "      <td>NaN</td>\n",
       "      <td>NaN</td>\n",
       "    </tr>\n",
       "    <tr>\n",
       "      <th>3</th>\n",
       "      <td>/Users/debabratapanda/PycharmProjects/Capstone...</td>\n",
       "      <td>1.0</td>\n",
       "      <td>fracture</td>\n",
       "      <td>NaN</td>\n",
       "      <td>NaN</td>\n",
       "      <td>NaN</td>\n",
       "      <td>NaN</td>\n",
       "      <td>NaN</td>\n",
       "      <td>NaN</td>\n",
       "      <td>NaN</td>\n",
       "      <td>NaN</td>\n",
       "      <td>NaN</td>\n",
       "      <td>NaN</td>\n",
       "      <td>NaN</td>\n",
       "      <td>NaN</td>\n",
       "      <td>NaN</td>\n",
       "    </tr>\n",
       "    <tr>\n",
       "      <th>4</th>\n",
       "      <td>/Users/debabratapanda/PycharmProjects/Capstone...</td>\n",
       "      <td>1.0</td>\n",
       "      <td>fracture</td>\n",
       "      <td>NaN</td>\n",
       "      <td>NaN</td>\n",
       "      <td>NaN</td>\n",
       "      <td>NaN</td>\n",
       "      <td>NaN</td>\n",
       "      <td>NaN</td>\n",
       "      <td>NaN</td>\n",
       "      <td>NaN</td>\n",
       "      <td>NaN</td>\n",
       "      <td>NaN</td>\n",
       "      <td>NaN</td>\n",
       "      <td>NaN</td>\n",
       "      <td>NaN</td>\n",
       "    </tr>\n",
       "    <tr>\n",
       "      <th>...</th>\n",
       "      <td>...</td>\n",
       "      <td>...</td>\n",
       "      <td>...</td>\n",
       "      <td>...</td>\n",
       "      <td>...</td>\n",
       "      <td>...</td>\n",
       "      <td>...</td>\n",
       "      <td>...</td>\n",
       "      <td>...</td>\n",
       "      <td>...</td>\n",
       "      <td>...</td>\n",
       "      <td>...</td>\n",
       "      <td>...</td>\n",
       "      <td>...</td>\n",
       "      <td>...</td>\n",
       "      <td>...</td>\n",
       "    </tr>\n",
       "    <tr>\n",
       "      <th>121331</th>\n",
       "      <td>/Users/debabratapanda/PycharmProjects/Capstone...</td>\n",
       "      <td>NaN</td>\n",
       "      <td>chest</td>\n",
       "      <td>00030801_001.png</td>\n",
       "      <td>00030801_001.png</td>\n",
       "      <td>Mass|Pneumonia</td>\n",
       "      <td>1.0</td>\n",
       "      <td>30801.0</td>\n",
       "      <td>39.0</td>\n",
       "      <td>M</td>\n",
       "      <td>PA</td>\n",
       "      <td>2048.0</td>\n",
       "      <td>2500.0</td>\n",
       "      <td>0.168</td>\n",
       "      <td>0.168</td>\n",
       "      <td>NaN</td>\n",
       "    </tr>\n",
       "    <tr>\n",
       "      <th>121332</th>\n",
       "      <td>/Users/debabratapanda/PycharmProjects/Capstone...</td>\n",
       "      <td>NaN</td>\n",
       "      <td>chest</td>\n",
       "      <td>00030802_000.png</td>\n",
       "      <td>00030802_000.png</td>\n",
       "      <td>No Finding</td>\n",
       "      <td>0.0</td>\n",
       "      <td>30802.0</td>\n",
       "      <td>29.0</td>\n",
       "      <td>M</td>\n",
       "      <td>PA</td>\n",
       "      <td>2048.0</td>\n",
       "      <td>2500.0</td>\n",
       "      <td>0.168</td>\n",
       "      <td>0.168</td>\n",
       "      <td>NaN</td>\n",
       "    </tr>\n",
       "    <tr>\n",
       "      <th>121333</th>\n",
       "      <td>/Users/debabratapanda/PycharmProjects/Capstone...</td>\n",
       "      <td>NaN</td>\n",
       "      <td>chest</td>\n",
       "      <td>00030803_000.png</td>\n",
       "      <td>00030803_000.png</td>\n",
       "      <td>No Finding</td>\n",
       "      <td>0.0</td>\n",
       "      <td>30803.0</td>\n",
       "      <td>42.0</td>\n",
       "      <td>F</td>\n",
       "      <td>PA</td>\n",
       "      <td>2048.0</td>\n",
       "      <td>2500.0</td>\n",
       "      <td>0.168</td>\n",
       "      <td>0.168</td>\n",
       "      <td>NaN</td>\n",
       "    </tr>\n",
       "    <tr>\n",
       "      <th>121334</th>\n",
       "      <td>/Users/debabratapanda/PycharmProjects/Capstone...</td>\n",
       "      <td>NaN</td>\n",
       "      <td>chest</td>\n",
       "      <td>00030804_000.png</td>\n",
       "      <td>00030804_000.png</td>\n",
       "      <td>No Finding</td>\n",
       "      <td>0.0</td>\n",
       "      <td>30804.0</td>\n",
       "      <td>30.0</td>\n",
       "      <td>F</td>\n",
       "      <td>PA</td>\n",
       "      <td>2048.0</td>\n",
       "      <td>2500.0</td>\n",
       "      <td>0.168</td>\n",
       "      <td>0.168</td>\n",
       "      <td>NaN</td>\n",
       "    </tr>\n",
       "    <tr>\n",
       "      <th>121335</th>\n",
       "      <td>/Users/debabratapanda/PycharmProjects/Capstone...</td>\n",
       "      <td>NaN</td>\n",
       "      <td>chest</td>\n",
       "      <td>00030805_000.png</td>\n",
       "      <td>00030805_000.png</td>\n",
       "      <td>No Finding</td>\n",
       "      <td>0.0</td>\n",
       "      <td>30805.0</td>\n",
       "      <td>27.0</td>\n",
       "      <td>M</td>\n",
       "      <td>PA</td>\n",
       "      <td>2048.0</td>\n",
       "      <td>2500.0</td>\n",
       "      <td>0.171</td>\n",
       "      <td>0.171</td>\n",
       "      <td>NaN</td>\n",
       "    </tr>\n",
       "  </tbody>\n",
       "</table>\n",
       "<p>121336 rows × 16 columns</p>\n",
       "</div>"
      ]
     },
     "execution_count": 34,
     "metadata": {},
     "output_type": "execute_result"
    }
   ],
   "execution_count": 34
  },
  {
   "metadata": {
    "ExecuteTime": {
     "end_time": "2025-02-12T20:50:27.429338Z",
     "start_time": "2025-02-12T20:50:27.415799Z"
    }
   },
   "cell_type": "code",
   "source": [
    "# Print information about our dataset\n",
    "print(\"Total number of images:\", len(dataset_df))\n",
    "print(\"\\nDataset distribution:\")\n",
    "print(dataset_df['dataset_type'].value_counts())"
   ],
   "id": "37781c5da6e77f85",
   "outputs": [
    {
     "name": "stdout",
     "output_type": "stream",
     "text": [
      "Total number of images: 121336\n",
      "\n",
      "Dataset distribution:\n",
      "dataset_type\n",
      "chest       112120\n",
      "fracture      9216\n",
      "Name: count, dtype: int64\n"
     ]
    }
   ],
   "execution_count": 33
  }
 ],
 "metadata": {
  "kernelspec": {
   "display_name": "Python 3",
   "language": "python",
   "name": "python3"
  },
  "language_info": {
   "codemirror_mode": {
    "name": "ipython",
    "version": 2
   },
   "file_extension": ".py",
   "mimetype": "text/x-python",
   "name": "python",
   "nbconvert_exporter": "python",
   "pygments_lexer": "ipython2",
   "version": "2.7.6"
  }
 },
 "nbformat": 4,
 "nbformat_minor": 5
}
